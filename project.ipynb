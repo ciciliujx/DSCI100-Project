{
 "cells": [
  {
   "cell_type": "markdown",
   "id": "b3032c18-df3c-4bdc-8160-13f6d06c3934",
   "metadata": {},
   "source": [
    "# Edibility of Mushrooms\n",
    "## Introduction:\n",
    "Mushrooms can be made for delicious dishes, but some of them are poisonous! Predicting the edibility from its appearance would be essential when we encounter a an unknown mushroom.\n",
    "\n",
    "- In our project, we aim to train a model which uses classification method to predict whether an unknown mushroom is edible or poisonous given various dimensions in its appearance.\n",
    "\n",
    "#### The Dataset:\n",
    "- \"Secondary mushroom data\" from UCI Machine Learning Repository (https://mushroom.mathematik.uni-marburg.de/files/) \n",
    "- Includes 61069 hypothetical mushrooms with caps based on 173 species (353 mushrooms per species)\n",
    "- Each mushroom is identified as edible, poisonous, or of unknown edibility\n",
    "- Of the 20 variables, 3 are continuous, and 17 are nominal (3 are binary, and 14 are categorical)\n",
    "\n",
    "## Exploratory data analysis:\n",
    "#### - Read, clean and wrangle data into a tidy format"
   ]
  },
  {
   "cell_type": "code",
   "execution_count": 2,
   "id": "c06c5527-062d-43c2-975d-32157bfbd8c0",
   "metadata": {},
   "outputs": [
    {
     "name": "stderr",
     "output_type": "stream",
     "text": [
      "── \u001b[1mAttaching packages\u001b[22m ─────────────────────────────────────── tidyverse 1.3.1 ──\n",
      "\n",
      "\u001b[32m✔\u001b[39m \u001b[34mggplot2\u001b[39m 3.3.6     \u001b[32m✔\u001b[39m \u001b[34mpurrr  \u001b[39m 0.3.4\n",
      "\u001b[32m✔\u001b[39m \u001b[34mtibble \u001b[39m 3.1.7     \u001b[32m✔\u001b[39m \u001b[34mdplyr  \u001b[39m 1.0.9\n",
      "\u001b[32m✔\u001b[39m \u001b[34mtidyr  \u001b[39m 1.2.0     \u001b[32m✔\u001b[39m \u001b[34mstringr\u001b[39m 1.4.0\n",
      "\u001b[32m✔\u001b[39m \u001b[34mreadr  \u001b[39m 2.1.2     \u001b[32m✔\u001b[39m \u001b[34mforcats\u001b[39m 0.5.1\n",
      "\n",
      "── \u001b[1mConflicts\u001b[22m ────────────────────────────────────────── tidyverse_conflicts() ──\n",
      "\u001b[31m✖\u001b[39m \u001b[34mdplyr\u001b[39m::\u001b[32mfilter()\u001b[39m masks \u001b[34mstats\u001b[39m::filter()\n",
      "\u001b[31m✖\u001b[39m \u001b[34mdplyr\u001b[39m::\u001b[32mlag()\u001b[39m    masks \u001b[34mstats\u001b[39m::lag()\n",
      "\n",
      "── \u001b[1mAttaching packages\u001b[22m ────────────────────────────────────── tidymodels 1.0.0 ──\n",
      "\n",
      "\u001b[32m✔\u001b[39m \u001b[34mbroom       \u001b[39m 1.0.0     \u001b[32m✔\u001b[39m \u001b[34mrsample     \u001b[39m 1.0.0\n",
      "\u001b[32m✔\u001b[39m \u001b[34mdials       \u001b[39m 1.0.0     \u001b[32m✔\u001b[39m \u001b[34mtune        \u001b[39m 1.0.0\n",
      "\u001b[32m✔\u001b[39m \u001b[34minfer       \u001b[39m 1.0.2     \u001b[32m✔\u001b[39m \u001b[34mworkflows   \u001b[39m 1.0.0\n",
      "\u001b[32m✔\u001b[39m \u001b[34mmodeldata   \u001b[39m 1.0.0     \u001b[32m✔\u001b[39m \u001b[34mworkflowsets\u001b[39m 1.0.0\n",
      "\u001b[32m✔\u001b[39m \u001b[34mparsnip     \u001b[39m 1.0.0     \u001b[32m✔\u001b[39m \u001b[34myardstick   \u001b[39m 1.0.0\n",
      "\u001b[32m✔\u001b[39m \u001b[34mrecipes     \u001b[39m 1.0.1     \n",
      "\n",
      "── \u001b[1mConflicts\u001b[22m ───────────────────────────────────────── tidymodels_conflicts() ──\n",
      "\u001b[31m✖\u001b[39m \u001b[34mscales\u001b[39m::\u001b[32mdiscard()\u001b[39m masks \u001b[34mpurrr\u001b[39m::discard()\n",
      "\u001b[31m✖\u001b[39m \u001b[34mdplyr\u001b[39m::\u001b[32mfilter()\u001b[39m   masks \u001b[34mstats\u001b[39m::filter()\n",
      "\u001b[31m✖\u001b[39m \u001b[34mrecipes\u001b[39m::\u001b[32mfixed()\u001b[39m  masks \u001b[34mstringr\u001b[39m::fixed()\n",
      "\u001b[31m✖\u001b[39m \u001b[34mdplyr\u001b[39m::\u001b[32mlag()\u001b[39m      masks \u001b[34mstats\u001b[39m::lag()\n",
      "\u001b[31m✖\u001b[39m \u001b[34myardstick\u001b[39m::\u001b[32mspec()\u001b[39m masks \u001b[34mreadr\u001b[39m::spec()\n",
      "\u001b[31m✖\u001b[39m \u001b[34mrecipes\u001b[39m::\u001b[32mstep()\u001b[39m   masks \u001b[34mstats\u001b[39m::step()\n",
      "\u001b[34m•\u001b[39m Use \u001b[32mtidymodels_prefer()\u001b[39m to resolve common conflicts.\n",
      "\n",
      "\u001b[1mRows: \u001b[22m\u001b[34m61069\u001b[39m \u001b[1mColumns: \u001b[22m\u001b[34m21\u001b[39m\n",
      "\u001b[36m──\u001b[39m \u001b[1mColumn specification\u001b[22m \u001b[36m────────────────────────────────────────────────────────\u001b[39m\n",
      "\u001b[1mDelimiter:\u001b[22m \";\"\n",
      "\u001b[31mchr\u001b[39m (16): class, cap-shape, cap-surface, cap-color, gill-attachment, gill-sp...\n",
      "\u001b[32mdbl\u001b[39m  (3): cap-diameter, stem-height, stem-width\n",
      "\u001b[33mlgl\u001b[39m  (2): does-bruise-or-bleed, has-ring\n",
      "\n",
      "\u001b[36mℹ\u001b[39m Use `spec()` to retrieve the full column specification for this data.\n",
      "\u001b[36mℹ\u001b[39m Specify the column types or set `show_col_types = FALSE` to quiet this message.\n"
     ]
    },
    {
     "data": {
      "text/html": [
       "<table class=\"dataframe\">\n",
       "<caption>A tibble: 6 × 21</caption>\n",
       "<thead>\n",
       "\t<tr><th scope=col>class</th><th scope=col>cap-diameter</th><th scope=col>cap-shape</th><th scope=col>cap-surface</th><th scope=col>cap-color</th><th scope=col>does-bruise-or-bleed</th><th scope=col>gill-attachment</th><th scope=col>gill-spacing</th><th scope=col>gill-color</th><th scope=col>stem-height</th><th scope=col>⋯</th><th scope=col>stem-root</th><th scope=col>stem-surface</th><th scope=col>stem-color</th><th scope=col>veil-type</th><th scope=col>veil-color</th><th scope=col>has-ring</th><th scope=col>ring-type</th><th scope=col>spore-print-color</th><th scope=col>habitat</th><th scope=col>season</th></tr>\n",
       "\t<tr><th scope=col>&lt;chr&gt;</th><th scope=col>&lt;dbl&gt;</th><th scope=col>&lt;chr&gt;</th><th scope=col>&lt;chr&gt;</th><th scope=col>&lt;chr&gt;</th><th scope=col>&lt;lgl&gt;</th><th scope=col>&lt;chr&gt;</th><th scope=col>&lt;chr&gt;</th><th scope=col>&lt;chr&gt;</th><th scope=col>&lt;dbl&gt;</th><th scope=col>⋯</th><th scope=col>&lt;chr&gt;</th><th scope=col>&lt;chr&gt;</th><th scope=col>&lt;chr&gt;</th><th scope=col>&lt;chr&gt;</th><th scope=col>&lt;chr&gt;</th><th scope=col>&lt;lgl&gt;</th><th scope=col>&lt;chr&gt;</th><th scope=col>&lt;chr&gt;</th><th scope=col>&lt;chr&gt;</th><th scope=col>&lt;chr&gt;</th></tr>\n",
       "</thead>\n",
       "<tbody>\n",
       "\t<tr><td>e</td><td>1.72</td><td>x</td><td>s </td><td>y</td><td>FALSE</td><td>d </td><td>NA</td><td>w</td><td>7.01</td><td>⋯</td><td>NA</td><td>t </td><td>y</td><td>NA</td><td>NA</td><td>FALSE</td><td>f</td><td>NA</td><td>h</td><td>u</td></tr>\n",
       "\t<tr><td>e</td><td>9.59</td><td>f</td><td>e </td><td>b</td><td>FALSE</td><td>NA</td><td>c </td><td>b</td><td>4.73</td><td>⋯</td><td>NA</td><td>NA</td><td>w</td><td>NA</td><td>NA</td><td> TRUE</td><td>f</td><td>NA</td><td>d</td><td>a</td></tr>\n",
       "\t<tr><td>p</td><td>0.86</td><td>x</td><td>g </td><td>p</td><td>FALSE</td><td>a </td><td>NA</td><td>p</td><td>4.25</td><td>⋯</td><td>NA</td><td>s </td><td>k</td><td>NA</td><td>NA</td><td>FALSE</td><td>f</td><td>NA</td><td>d</td><td>s</td></tr>\n",
       "\t<tr><td>p</td><td>4.32</td><td>x</td><td>NA</td><td>e</td><td>FALSE</td><td>x </td><td>NA</td><td>w</td><td>4.91</td><td>⋯</td><td>NA</td><td>NA</td><td>w</td><td>NA</td><td>NA</td><td>FALSE</td><td>f</td><td>NA</td><td>d</td><td>u</td></tr>\n",
       "\t<tr><td>e</td><td>2.80</td><td>x</td><td>s </td><td>w</td><td>FALSE</td><td>d </td><td>d </td><td>w</td><td>3.13</td><td>⋯</td><td>NA</td><td>NA</td><td>w</td><td>NA</td><td>NA</td><td>FALSE</td><td>f</td><td>NA</td><td>m</td><td>a</td></tr>\n",
       "\t<tr><td>p</td><td>1.18</td><td>s</td><td>s </td><td>y</td><td>FALSE</td><td>f </td><td>f </td><td>f</td><td>3.39</td><td>⋯</td><td>NA</td><td>NA</td><td>y</td><td>NA</td><td>NA</td><td>FALSE</td><td>f</td><td>NA</td><td>d</td><td>u</td></tr>\n",
       "</tbody>\n",
       "</table>\n"
      ],
      "text/latex": [
       "A tibble: 6 × 21\n",
       "\\begin{tabular}{lllllllllllllllllllll}\n",
       " class & cap-diameter & cap-shape & cap-surface & cap-color & does-bruise-or-bleed & gill-attachment & gill-spacing & gill-color & stem-height & ⋯ & stem-root & stem-surface & stem-color & veil-type & veil-color & has-ring & ring-type & spore-print-color & habitat & season\\\\\n",
       " <chr> & <dbl> & <chr> & <chr> & <chr> & <lgl> & <chr> & <chr> & <chr> & <dbl> & ⋯ & <chr> & <chr> & <chr> & <chr> & <chr> & <lgl> & <chr> & <chr> & <chr> & <chr>\\\\\n",
       "\\hline\n",
       "\t e & 1.72 & x & s  & y & FALSE & d  & NA & w & 7.01 & ⋯ & NA & t  & y & NA & NA & FALSE & f & NA & h & u\\\\\n",
       "\t e & 9.59 & f & e  & b & FALSE & NA & c  & b & 4.73 & ⋯ & NA & NA & w & NA & NA &  TRUE & f & NA & d & a\\\\\n",
       "\t p & 0.86 & x & g  & p & FALSE & a  & NA & p & 4.25 & ⋯ & NA & s  & k & NA & NA & FALSE & f & NA & d & s\\\\\n",
       "\t p & 4.32 & x & NA & e & FALSE & x  & NA & w & 4.91 & ⋯ & NA & NA & w & NA & NA & FALSE & f & NA & d & u\\\\\n",
       "\t e & 2.80 & x & s  & w & FALSE & d  & d  & w & 3.13 & ⋯ & NA & NA & w & NA & NA & FALSE & f & NA & m & a\\\\\n",
       "\t p & 1.18 & s & s  & y & FALSE & f  & f  & f & 3.39 & ⋯ & NA & NA & y & NA & NA & FALSE & f & NA & d & u\\\\\n",
       "\\end{tabular}\n"
      ],
      "text/markdown": [
       "\n",
       "A tibble: 6 × 21\n",
       "\n",
       "| class &lt;chr&gt; | cap-diameter &lt;dbl&gt; | cap-shape &lt;chr&gt; | cap-surface &lt;chr&gt; | cap-color &lt;chr&gt; | does-bruise-or-bleed &lt;lgl&gt; | gill-attachment &lt;chr&gt; | gill-spacing &lt;chr&gt; | gill-color &lt;chr&gt; | stem-height &lt;dbl&gt; | ⋯ ⋯ | stem-root &lt;chr&gt; | stem-surface &lt;chr&gt; | stem-color &lt;chr&gt; | veil-type &lt;chr&gt; | veil-color &lt;chr&gt; | has-ring &lt;lgl&gt; | ring-type &lt;chr&gt; | spore-print-color &lt;chr&gt; | habitat &lt;chr&gt; | season &lt;chr&gt; |\n",
       "|---|---|---|---|---|---|---|---|---|---|---|---|---|---|---|---|---|---|---|---|---|\n",
       "| e | 1.72 | x | s  | y | FALSE | d  | NA | w | 7.01 | ⋯ | NA | t  | y | NA | NA | FALSE | f | NA | h | u |\n",
       "| e | 9.59 | f | e  | b | FALSE | NA | c  | b | 4.73 | ⋯ | NA | NA | w | NA | NA |  TRUE | f | NA | d | a |\n",
       "| p | 0.86 | x | g  | p | FALSE | a  | NA | p | 4.25 | ⋯ | NA | s  | k | NA | NA | FALSE | f | NA | d | s |\n",
       "| p | 4.32 | x | NA | e | FALSE | x  | NA | w | 4.91 | ⋯ | NA | NA | w | NA | NA | FALSE | f | NA | d | u |\n",
       "| e | 2.80 | x | s  | w | FALSE | d  | d  | w | 3.13 | ⋯ | NA | NA | w | NA | NA | FALSE | f | NA | m | a |\n",
       "| p | 1.18 | s | s  | y | FALSE | f  | f  | f | 3.39 | ⋯ | NA | NA | y | NA | NA | FALSE | f | NA | d | u |\n",
       "\n"
      ],
      "text/plain": [
       "  class cap-diameter cap-shape cap-surface cap-color does-bruise-or-bleed\n",
       "1 e     1.72         x         s           y         FALSE               \n",
       "2 e     9.59         f         e           b         FALSE               \n",
       "3 p     0.86         x         g           p         FALSE               \n",
       "4 p     4.32         x         NA          e         FALSE               \n",
       "5 e     2.80         x         s           w         FALSE               \n",
       "6 p     1.18         s         s           y         FALSE               \n",
       "  gill-attachment gill-spacing gill-color stem-height ⋯ stem-root stem-surface\n",
       "1 d               NA           w          7.01        ⋯ NA        t           \n",
       "2 NA              c            b          4.73        ⋯ NA        NA          \n",
       "3 a               NA           p          4.25        ⋯ NA        s           \n",
       "4 x               NA           w          4.91        ⋯ NA        NA          \n",
       "5 d               d            w          3.13        ⋯ NA        NA          \n",
       "6 f               f            f          3.39        ⋯ NA        NA          \n",
       "  stem-color veil-type veil-color has-ring ring-type spore-print-color habitat\n",
       "1 y          NA        NA         FALSE    f         NA                h      \n",
       "2 w          NA        NA          TRUE    f         NA                d      \n",
       "3 k          NA        NA         FALSE    f         NA                d      \n",
       "4 w          NA        NA         FALSE    f         NA                d      \n",
       "5 w          NA        NA         FALSE    f         NA                m      \n",
       "6 y          NA        NA         FALSE    f         NA                d      \n",
       "  season\n",
       "1 u     \n",
       "2 a     \n",
       "3 s     \n",
       "4 u     \n",
       "5 a     \n",
       "6 u     "
      ]
     },
     "metadata": {},
     "output_type": "display_data"
    }
   ],
   "source": [
    "library(tidyverse)\n",
    "library(tidymodels)\n",
    "library(cowplot)\n",
    "set.seed(777)\n",
    "link <- \"https://mushroom.mathematik.uni-marburg.de/files/SecondaryData/secondary_data_shuffled.csv\"\n",
    "mushrooms <- read_delim(link, delim=\";\") # download our dataset\n",
    "head(mushrooms) # show the first 6 examples"
   ]
  },
  {
   "cell_type": "code",
   "execution_count": 3,
   "id": "c225b949-cddb-453c-97a5-259aeecc86a9",
   "metadata": {},
   "outputs": [
    {
     "data": {
      "text/html": [
       "<table class=\"dataframe\">\n",
       "<caption>A tibble: 6 × 4</caption>\n",
       "<thead>\n",
       "\t<tr><th scope=col>class</th><th scope=col>diameter</th><th scope=col>height</th><th scope=col>width</th></tr>\n",
       "\t<tr><th scope=col>&lt;fct&gt;</th><th scope=col>&lt;dbl&gt;</th><th scope=col>&lt;dbl&gt;</th><th scope=col>&lt;dbl&gt;</th></tr>\n",
       "</thead>\n",
       "<tbody>\n",
       "\t<tr><td>e</td><td> 9.59</td><td> 4.73</td><td>20.49</td></tr>\n",
       "\t<tr><td>e</td><td> 5.76</td><td> 8.11</td><td>17.69</td></tr>\n",
       "\t<tr><td>e</td><td>11.53</td><td> 8.99</td><td>18.61</td></tr>\n",
       "\t<tr><td>e</td><td> 1.48</td><td> 5.39</td><td> 2.56</td></tr>\n",
       "\t<tr><td>e</td><td>12.59</td><td>12.33</td><td>15.40</td></tr>\n",
       "\t<tr><td>e</td><td> 1.40</td><td> 5.97</td><td> 1.80</td></tr>\n",
       "</tbody>\n",
       "</table>\n"
      ],
      "text/latex": [
       "A tibble: 6 × 4\n",
       "\\begin{tabular}{llll}\n",
       " class & diameter & height & width\\\\\n",
       " <fct> & <dbl> & <dbl> & <dbl>\\\\\n",
       "\\hline\n",
       "\t e &  9.59 &  4.73 & 20.49\\\\\n",
       "\t e &  5.76 &  8.11 & 17.69\\\\\n",
       "\t e & 11.53 &  8.99 & 18.61\\\\\n",
       "\t e &  1.48 &  5.39 &  2.56\\\\\n",
       "\t e & 12.59 & 12.33 & 15.40\\\\\n",
       "\t e &  1.40 &  5.97 &  1.80\\\\\n",
       "\\end{tabular}\n"
      ],
      "text/markdown": [
       "\n",
       "A tibble: 6 × 4\n",
       "\n",
       "| class &lt;fct&gt; | diameter &lt;dbl&gt; | height &lt;dbl&gt; | width &lt;dbl&gt; |\n",
       "|---|---|---|---|\n",
       "| e |  9.59 |  4.73 | 20.49 |\n",
       "| e |  5.76 |  8.11 | 17.69 |\n",
       "| e | 11.53 |  8.99 | 18.61 |\n",
       "| e |  1.48 |  5.39 |  2.56 |\n",
       "| e | 12.59 | 12.33 | 15.40 |\n",
       "| e |  1.40 |  5.97 |  1.80 |\n",
       "\n"
      ],
      "text/plain": [
       "  class diameter height width\n",
       "1 e      9.59     4.73  20.49\n",
       "2 e      5.76     8.11  17.69\n",
       "3 e     11.53     8.99  18.61\n",
       "4 e      1.48     5.39   2.56\n",
       "5 e     12.59    12.33  15.40\n",
       "6 e      1.40     5.97   1.80"
      ]
     },
     "metadata": {},
     "output_type": "display_data"
    }
   ],
   "source": [
    "new_colnames <- map(colnames(mushrooms), function (col_name) gsub(\"-\", \"_\", col_name)) # replace '-' with '_'\n",
    "new_colnames[2] <- 'diameter' # compact the names of diameter, height, and width\n",
    "new_colnames[10] <- 'height'\n",
    "new_colnames[11] <- 'width'\n",
    "colnames(mushrooms) <- new_colnames\n",
    "mushroom_split <- mushrooms |>\n",
    "    mutate(across(-c(diameter, height, width), factor)) |>\n",
    "    initial_split(prop=0.75, strata=class)\n",
    "mushroom_training_raw <- training(mushroom_split)\n",
    "mushroom_training <- mushroom_training_raw |>\n",
    "    select(class, diameter, height, width)\n",
    "head(mushroom_training)"
   ]
  },
  {
   "cell_type": "code",
   "execution_count": 4,
   "id": "0c049b02-d10b-44ae-8777-ec83295e149d",
   "metadata": {},
   "outputs": [
    {
     "data": {
      "text/html": [
       "<table class=\"dataframe\">\n",
       "<caption>A tibble: 2 × 3</caption>\n",
       "<thead>\n",
       "\t<tr><th scope=col>.metric</th><th scope=col>.estimator</th><th scope=col>.estimate</th></tr>\n",
       "\t<tr><th scope=col>&lt;chr&gt;</th><th scope=col>&lt;chr&gt;</th><th scope=col>&lt;dbl&gt;</th></tr>\n",
       "</thead>\n",
       "<tbody>\n",
       "\t<tr><td>accuracy</td><td>binary</td><td>0.8335189</td></tr>\n",
       "\t<tr><td>kap     </td><td>binary</td><td>0.6628845</td></tr>\n",
       "</tbody>\n",
       "</table>\n"
      ],
      "text/latex": [
       "A tibble: 2 × 3\n",
       "\\begin{tabular}{lll}\n",
       " .metric & .estimator & .estimate\\\\\n",
       " <chr> & <chr> & <dbl>\\\\\n",
       "\\hline\n",
       "\t accuracy & binary & 0.8335189\\\\\n",
       "\t kap      & binary & 0.6628845\\\\\n",
       "\\end{tabular}\n"
      ],
      "text/markdown": [
       "\n",
       "A tibble: 2 × 3\n",
       "\n",
       "| .metric &lt;chr&gt; | .estimator &lt;chr&gt; | .estimate &lt;dbl&gt; |\n",
       "|---|---|---|\n",
       "| accuracy | binary | 0.8335189 |\n",
       "| kap      | binary | 0.6628845 |\n",
       "\n"
      ],
      "text/plain": [
       "  .metric  .estimator .estimate\n",
       "1 accuracy binary     0.8335189\n",
       "2 kap      binary     0.6628845"
      ]
     },
     "metadata": {},
     "output_type": "display_data"
    }
   ],
   "source": [
    "k <- 10\n",
    "mushroom_recipe <- recipe(class ~ diameter + height + width, data=mushroom_training) |>\n",
    "    step_scale(all_predictors()) |>\n",
    "    step_center(all_predictors())\n",
    "mushroom_spec <- nearest_neighbor(weight_func=\"rectangular\", neighbors=k) |>\n",
    "    set_engine(\"kknn\") |>\n",
    "    set_mode(\"classification\")\n",
    "mushroom_fit <- workflow() |>\n",
    "    add_recipe(mushroom_recipe) |>\n",
    "    add_model(mushroom_spec) |>\n",
    "    fit(data = mushroom_training)\n",
    "mushroom_predicted <- mushroom_fit |>\n",
    "    predict(mushroom_training) |>\n",
    "    bind_cols(mushroom_training)\n",
    "training_metrics <- mushroom_predicted |>\n",
    "    metrics(truth=class, estimate=.pred_class)\n",
    "training_metrics"
   ]
  }
 ],
 "metadata": {
  "kernelspec": {
   "display_name": "R",
   "language": "R",
   "name": "ir"
  },
  "language_info": {
   "codemirror_mode": "r",
   "file_extension": ".r",
   "mimetype": "text/x-r-source",
   "name": "R",
   "pygments_lexer": "r",
   "version": "4.1.3"
  }
 },
 "nbformat": 4,
 "nbformat_minor": 5
}
