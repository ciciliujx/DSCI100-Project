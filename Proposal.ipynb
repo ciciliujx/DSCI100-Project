{
 "cells": [
  {
   "cell_type": "markdown",
   "id": "3a257b83-cbe0-46a5-a41f-8660d2c7d73c",
   "metadata": {},
   "source": [
    "# Title"
   ]
  },
  {
   "cell_type": "markdown",
   "id": "1c327d3e-7c22-40b5-9fcd-39ed6dde22ae",
   "metadata": {},
   "source": [
    "# Introduction:\n",
    "- Provide some relevant background information on the topic so that someone unfamiliar with it will be prepared to understand the rest of your proposal\n",
    "- Clearly state the question you will try to answer with your project\n",
    "- Identify and describe the dataset that will be used to answer the question\n",
    "3 continuous variables, 3 binary variables, 14 categorical variables; \n",
    "This dataset includes 173 species of mushrooms with caps from various families and one\n",
    "\tentry for each species."
   ]
  },
  {
   "cell_type": "markdown",
   "id": "e1ecc806-ebae-48d6-9c5f-7edc506ab508",
   "metadata": {},
   "source": [
    "# Preliminary exploratory data analysis:\n",
    "- Demonstrate that the dataset can be read from the web into R "
   ]
  },
  {
   "cell_type": "code",
   "execution_count": 38,
   "id": "5571c5a2-62c4-49cb-8184-caa63799db10",
   "metadata": {},
   "outputs": [
    {
     "name": "stderr",
     "output_type": "stream",
     "text": [
      "\u001b[1mRows: \u001b[22m\u001b[34m61069\u001b[39m \u001b[1mColumns: \u001b[22m\u001b[34m21\u001b[39m\n",
      "\u001b[36m──\u001b[39m \u001b[1mColumn specification\u001b[22m \u001b[36m────────────────────────────────────────────────────────\u001b[39m\n",
      "\u001b[1mDelimiter:\u001b[22m \";\"\n",
      "\u001b[31mchr\u001b[39m (16): class, cap-shape, cap-surface, cap-color, gill-attachment, gill-sp...\n",
      "\u001b[32mdbl\u001b[39m  (3): cap-diameter, stem-height, stem-width\n",
      "\u001b[33mlgl\u001b[39m  (2): does-bruise-or-bleed, has-ring\n",
      "\n",
      "\u001b[36mℹ\u001b[39m Use `spec()` to retrieve the full column specification for this data.\n",
      "\u001b[36mℹ\u001b[39m Specify the column types or set `show_col_types = FALSE` to quiet this message.\n"
     ]
    },
    {
     "data": {
      "text/html": [
       "<table class=\"dataframe\">\n",
       "<caption>A tibble: 6 × 21</caption>\n",
       "<thead>\n",
       "\t<tr><th scope=col>class</th><th scope=col>cap-diameter</th><th scope=col>cap-shape</th><th scope=col>cap-surface</th><th scope=col>cap-color</th><th scope=col>does-bruise-or-bleed</th><th scope=col>gill-attachment</th><th scope=col>gill-spacing</th><th scope=col>gill-color</th><th scope=col>stem-height</th><th scope=col>⋯</th><th scope=col>stem-root</th><th scope=col>stem-surface</th><th scope=col>stem-color</th><th scope=col>veil-type</th><th scope=col>veil-color</th><th scope=col>has-ring</th><th scope=col>ring-type</th><th scope=col>spore-print-color</th><th scope=col>habitat</th><th scope=col>season</th></tr>\n",
       "\t<tr><th scope=col>&lt;chr&gt;</th><th scope=col>&lt;dbl&gt;</th><th scope=col>&lt;chr&gt;</th><th scope=col>&lt;chr&gt;</th><th scope=col>&lt;chr&gt;</th><th scope=col>&lt;lgl&gt;</th><th scope=col>&lt;chr&gt;</th><th scope=col>&lt;chr&gt;</th><th scope=col>&lt;chr&gt;</th><th scope=col>&lt;dbl&gt;</th><th scope=col>⋯</th><th scope=col>&lt;chr&gt;</th><th scope=col>&lt;chr&gt;</th><th scope=col>&lt;chr&gt;</th><th scope=col>&lt;chr&gt;</th><th scope=col>&lt;chr&gt;</th><th scope=col>&lt;lgl&gt;</th><th scope=col>&lt;chr&gt;</th><th scope=col>&lt;chr&gt;</th><th scope=col>&lt;chr&gt;</th><th scope=col>&lt;chr&gt;</th></tr>\n",
       "</thead>\n",
       "<tbody>\n",
       "\t<tr><td>p</td><td>15.26</td><td>x</td><td>g</td><td>o</td><td>FALSE</td><td>e</td><td>NA</td><td>w</td><td>16.95</td><td>⋯</td><td>s</td><td>y</td><td>w</td><td>u</td><td>w</td><td>TRUE</td><td>g</td><td>NA</td><td>d</td><td>w</td></tr>\n",
       "\t<tr><td>p</td><td>16.60</td><td>x</td><td>g</td><td>o</td><td>FALSE</td><td>e</td><td>NA</td><td>w</td><td>17.99</td><td>⋯</td><td>s</td><td>y</td><td>w</td><td>u</td><td>w</td><td>TRUE</td><td>g</td><td>NA</td><td>d</td><td>u</td></tr>\n",
       "\t<tr><td>p</td><td>14.07</td><td>x</td><td>g</td><td>o</td><td>FALSE</td><td>e</td><td>NA</td><td>w</td><td>17.80</td><td>⋯</td><td>s</td><td>y</td><td>w</td><td>u</td><td>w</td><td>TRUE</td><td>g</td><td>NA</td><td>d</td><td>w</td></tr>\n",
       "\t<tr><td>p</td><td>14.17</td><td>f</td><td>h</td><td>e</td><td>FALSE</td><td>e</td><td>NA</td><td>w</td><td>15.77</td><td>⋯</td><td>s</td><td>y</td><td>w</td><td>u</td><td>w</td><td>TRUE</td><td>p</td><td>NA</td><td>d</td><td>w</td></tr>\n",
       "\t<tr><td>p</td><td>14.64</td><td>x</td><td>h</td><td>o</td><td>FALSE</td><td>e</td><td>NA</td><td>w</td><td>16.53</td><td>⋯</td><td>s</td><td>y</td><td>w</td><td>u</td><td>w</td><td>TRUE</td><td>p</td><td>NA</td><td>d</td><td>w</td></tr>\n",
       "\t<tr><td>p</td><td>15.34</td><td>x</td><td>g</td><td>o</td><td>FALSE</td><td>e</td><td>NA</td><td>w</td><td>17.84</td><td>⋯</td><td>s</td><td>y</td><td>w</td><td>u</td><td>w</td><td>TRUE</td><td>p</td><td>NA</td><td>d</td><td>u</td></tr>\n",
       "</tbody>\n",
       "</table>\n"
      ],
      "text/latex": [
       "A tibble: 6 × 21\n",
       "\\begin{tabular}{lllllllllllllllllllll}\n",
       " class & cap-diameter & cap-shape & cap-surface & cap-color & does-bruise-or-bleed & gill-attachment & gill-spacing & gill-color & stem-height & ⋯ & stem-root & stem-surface & stem-color & veil-type & veil-color & has-ring & ring-type & spore-print-color & habitat & season\\\\\n",
       " <chr> & <dbl> & <chr> & <chr> & <chr> & <lgl> & <chr> & <chr> & <chr> & <dbl> & ⋯ & <chr> & <chr> & <chr> & <chr> & <chr> & <lgl> & <chr> & <chr> & <chr> & <chr>\\\\\n",
       "\\hline\n",
       "\t p & 15.26 & x & g & o & FALSE & e & NA & w & 16.95 & ⋯ & s & y & w & u & w & TRUE & g & NA & d & w\\\\\n",
       "\t p & 16.60 & x & g & o & FALSE & e & NA & w & 17.99 & ⋯ & s & y & w & u & w & TRUE & g & NA & d & u\\\\\n",
       "\t p & 14.07 & x & g & o & FALSE & e & NA & w & 17.80 & ⋯ & s & y & w & u & w & TRUE & g & NA & d & w\\\\\n",
       "\t p & 14.17 & f & h & e & FALSE & e & NA & w & 15.77 & ⋯ & s & y & w & u & w & TRUE & p & NA & d & w\\\\\n",
       "\t p & 14.64 & x & h & o & FALSE & e & NA & w & 16.53 & ⋯ & s & y & w & u & w & TRUE & p & NA & d & w\\\\\n",
       "\t p & 15.34 & x & g & o & FALSE & e & NA & w & 17.84 & ⋯ & s & y & w & u & w & TRUE & p & NA & d & u\\\\\n",
       "\\end{tabular}\n"
      ],
      "text/markdown": [
       "\n",
       "A tibble: 6 × 21\n",
       "\n",
       "| class &lt;chr&gt; | cap-diameter &lt;dbl&gt; | cap-shape &lt;chr&gt; | cap-surface &lt;chr&gt; | cap-color &lt;chr&gt; | does-bruise-or-bleed &lt;lgl&gt; | gill-attachment &lt;chr&gt; | gill-spacing &lt;chr&gt; | gill-color &lt;chr&gt; | stem-height &lt;dbl&gt; | ⋯ ⋯ | stem-root &lt;chr&gt; | stem-surface &lt;chr&gt; | stem-color &lt;chr&gt; | veil-type &lt;chr&gt; | veil-color &lt;chr&gt; | has-ring &lt;lgl&gt; | ring-type &lt;chr&gt; | spore-print-color &lt;chr&gt; | habitat &lt;chr&gt; | season &lt;chr&gt; |\n",
       "|---|---|---|---|---|---|---|---|---|---|---|---|---|---|---|---|---|---|---|---|---|\n",
       "| p | 15.26 | x | g | o | FALSE | e | NA | w | 16.95 | ⋯ | s | y | w | u | w | TRUE | g | NA | d | w |\n",
       "| p | 16.60 | x | g | o | FALSE | e | NA | w | 17.99 | ⋯ | s | y | w | u | w | TRUE | g | NA | d | u |\n",
       "| p | 14.07 | x | g | o | FALSE | e | NA | w | 17.80 | ⋯ | s | y | w | u | w | TRUE | g | NA | d | w |\n",
       "| p | 14.17 | f | h | e | FALSE | e | NA | w | 15.77 | ⋯ | s | y | w | u | w | TRUE | p | NA | d | w |\n",
       "| p | 14.64 | x | h | o | FALSE | e | NA | w | 16.53 | ⋯ | s | y | w | u | w | TRUE | p | NA | d | w |\n",
       "| p | 15.34 | x | g | o | FALSE | e | NA | w | 17.84 | ⋯ | s | y | w | u | w | TRUE | p | NA | d | u |\n",
       "\n"
      ],
      "text/plain": [
       "  class cap-diameter cap-shape cap-surface cap-color does-bruise-or-bleed\n",
       "1 p     15.26        x         g           o         FALSE               \n",
       "2 p     16.60        x         g           o         FALSE               \n",
       "3 p     14.07        x         g           o         FALSE               \n",
       "4 p     14.17        f         h           e         FALSE               \n",
       "5 p     14.64        x         h           o         FALSE               \n",
       "6 p     15.34        x         g           o         FALSE               \n",
       "  gill-attachment gill-spacing gill-color stem-height ⋯ stem-root stem-surface\n",
       "1 e               NA           w          16.95       ⋯ s         y           \n",
       "2 e               NA           w          17.99       ⋯ s         y           \n",
       "3 e               NA           w          17.80       ⋯ s         y           \n",
       "4 e               NA           w          15.77       ⋯ s         y           \n",
       "5 e               NA           w          16.53       ⋯ s         y           \n",
       "6 e               NA           w          17.84       ⋯ s         y           \n",
       "  stem-color veil-type veil-color has-ring ring-type spore-print-color habitat\n",
       "1 w          u         w          TRUE     g         NA                d      \n",
       "2 w          u         w          TRUE     g         NA                d      \n",
       "3 w          u         w          TRUE     g         NA                d      \n",
       "4 w          u         w          TRUE     p         NA                d      \n",
       "5 w          u         w          TRUE     p         NA                d      \n",
       "6 w          u         w          TRUE     p         NA                d      \n",
       "  season\n",
       "1 w     \n",
       "2 u     \n",
       "3 w     \n",
       "4 w     \n",
       "5 w     \n",
       "6 u     "
      ]
     },
     "metadata": {},
     "output_type": "display_data"
    }
   ],
   "source": [
    "library(tidyverse)\n",
    "library(tidymodels)\n",
    "mushrooms <- read_delim(\"data\\ folder/secondary_data.csv\", delim=\";\")\n",
    "head(mushrooms)"
   ]
  },
  {
   "cell_type": "markdown",
   "id": "0ecb4706-90b3-4754-9f63-af47ef685329",
   "metadata": {},
   "source": [
    "- Clean and wrangle your data into a tidy format"
   ]
  },
  {
   "cell_type": "code",
   "execution_count": 51,
   "id": "fe416362-654a-4c76-b00a-3ca0af711dab",
   "metadata": {},
   "outputs": [
    {
     "data": {
      "text/html": [
       "45801"
      ],
      "text/latex": [
       "45801"
      ],
      "text/markdown": [
       "45801"
      ],
      "text/plain": [
       "[1] 45801"
      ]
     },
     "metadata": {},
     "output_type": "display_data"
    },
    {
     "data": {
      "text/html": [
       "45801"
      ],
      "text/latex": [
       "45801"
      ],
      "text/markdown": [
       "45801"
      ],
      "text/plain": [
       "[1] 45801"
      ]
     },
     "metadata": {},
     "output_type": "display_data"
    }
   ],
   "source": [
    "mushroom_wrangle <- mushrooms |>\n",
    "    select(class, \"cap-diameter\", \"stem-height\", \"stem-width\") |>\n",
    "    mutate(class = as_factor(class)) \n",
    "colnames(mushroom_wrangle) <- c(\"class\", \"diameter\", \"height\", \"width\")\n",
    "\n",
    "mushroom_split <- mushroom_wrangle |>\n",
    "    initial_split(prop=0.75, strata=class)\n",
    "\n",
    "mushroom_training <- training(mushroom_split)\n",
    "mushroom_training"
   ]
  },
  {
   "cell_type": "markdown",
   "id": "a67bc662-e02c-4510-b977-e3b8355221d7",
   "metadata": {},
   "source": [
    "- Using only training data, summarize the data in at least one table (this is exploratory data analysis). An example of a useful table could be one that reports the number of observations in each class, the means of the predictor variables you plan to use in your analysis and how many rows have missing data. "
   ]
  },
  {
   "cell_type": "code",
   "execution_count": 53,
   "id": "a2a563d5-5d68-4e6c-be44-e77450f27c77",
   "metadata": {},
   "outputs": [
    {
     "data": {
      "text/html": [
       "<table class=\"dataframe\">\n",
       "<caption>A tibble: 2 × 2</caption>\n",
       "<thead>\n",
       "\t<tr><th scope=col>class</th><th scope=col>n</th></tr>\n",
       "\t<tr><th scope=col>&lt;fct&gt;</th><th scope=col>&lt;int&gt;</th></tr>\n",
       "</thead>\n",
       "<tbody>\n",
       "\t<tr><td>p</td><td>25416</td></tr>\n",
       "\t<tr><td>e</td><td>20385</td></tr>\n",
       "</tbody>\n",
       "</table>\n"
      ],
      "text/latex": [
       "A tibble: 2 × 2\n",
       "\\begin{tabular}{ll}\n",
       " class & n\\\\\n",
       " <fct> & <int>\\\\\n",
       "\\hline\n",
       "\t p & 25416\\\\\n",
       "\t e & 20385\\\\\n",
       "\\end{tabular}\n"
      ],
      "text/markdown": [
       "\n",
       "A tibble: 2 × 2\n",
       "\n",
       "| class &lt;fct&gt; | n &lt;int&gt; |\n",
       "|---|---|\n",
       "| p | 25416 |\n",
       "| e | 20385 |\n",
       "\n"
      ],
      "text/plain": [
       "  class n    \n",
       "1 p     25416\n",
       "2 e     20385"
      ]
     },
     "metadata": {},
     "output_type": "display_data"
    },
    {
     "data": {
      "text/html": [
       "<table class=\"dataframe\">\n",
       "<caption>A tibble: 1 × 3</caption>\n",
       "<thead>\n",
       "\t<tr><th scope=col>diameter</th><th scope=col>height</th><th scope=col>width</th></tr>\n",
       "\t<tr><th scope=col>&lt;dbl&gt;</th><th scope=col>&lt;dbl&gt;</th><th scope=col>&lt;dbl&gt;</th></tr>\n",
       "</thead>\n",
       "<tbody>\n",
       "\t<tr><td>6.71671</td><td>6.573344</td><td>12.12319</td></tr>\n",
       "</tbody>\n",
       "</table>\n"
      ],
      "text/latex": [
       "A tibble: 1 × 3\n",
       "\\begin{tabular}{lll}\n",
       " diameter & height & width\\\\\n",
       " <dbl> & <dbl> & <dbl>\\\\\n",
       "\\hline\n",
       "\t 6.71671 & 6.573344 & 12.12319\\\\\n",
       "\\end{tabular}\n"
      ],
      "text/markdown": [
       "\n",
       "A tibble: 1 × 3\n",
       "\n",
       "| diameter &lt;dbl&gt; | height &lt;dbl&gt; | width &lt;dbl&gt; |\n",
       "|---|---|---|\n",
       "| 6.71671 | 6.573344 | 12.12319 |\n",
       "\n"
      ],
      "text/plain": [
       "  diameter height   width   \n",
       "1 6.71671  6.573344 12.12319"
      ]
     },
     "metadata": {},
     "output_type": "display_data"
    },
    {
     "data": {
      "text/html": [
       "0"
      ],
      "text/latex": [
       "0"
      ],
      "text/markdown": [
       "0"
      ],
      "text/plain": [
       "[1] 0"
      ]
     },
     "metadata": {},
     "output_type": "display_data"
    }
   ],
   "source": [
    "summarize_mushroom <- mushroom_training |>\n",
    "    group_by(class) |>\n",
    "    summarize(n = n())\n",
    "summarize_mushroom\n",
    "\n",
    "means_mushroom <- mushroom_training |>\n",
    "    select(-class) |>\n",
    "    map_df(mean)\n",
    "    means_mushroom\n",
    "\n",
    "missing_data <- mushroom_training |>\n",
    "    filter(is.na(diameter)) |>\n",
    "    nrow()\n",
    "missing_data"
   ]
  },
  {
   "cell_type": "markdown",
   "id": "ab488043-c5f2-4876-b8b5-cd95ad405502",
   "metadata": {},
   "source": [
    "- Using only training data, visualize the data with at least one plot relevant to the analysis you plan to do (this is exploratory data analysis). An example of a useful visualization could be one that compares the distributions of each of the predictor variables you plan to use in your analysis."
   ]
  },
  {
   "cell_type": "markdown",
   "id": "b0ec106a-e5d3-4a99-b755-483813c3ea71",
   "metadata": {
    "tags": []
   },
   "source": [
    "# Methods:\n",
    "- Explain how you will conduct either your data analysis and which variables/columns you will use. Note - you do not need to use all variables/columns that exist in the raw data set. In fact, that's often not a good idea. For each variable think: is this a useful variable for prediction?\n",
    "- Describe at least one way that you will visualize the results"
   ]
  },
  {
   "cell_type": "markdown",
   "id": "60a6b304-bb3b-4ae2-a435-5fb05680b1da",
   "metadata": {},
   "source": [
    "# Expected outcomes and significance:\n",
    "- What do you expect to find?\n",
    "- What impact could such findings have?\n",
    "- What future questions could this lead to?"
   ]
  },
  {
   "cell_type": "code",
   "execution_count": null,
   "id": "97f11f56-a62e-4662-96a8-5f5898735c2f",
   "metadata": {},
   "outputs": [],
   "source": []
  }
 ],
 "metadata": {
  "kernelspec": {
   "display_name": "R",
   "language": "R",
   "name": "ir"
  },
  "language_info": {
   "codemirror_mode": "r",
   "file_extension": ".r",
   "mimetype": "text/x-r-source",
   "name": "R",
   "pygments_lexer": "r",
   "version": "4.1.3"
  }
 },
 "nbformat": 4,
 "nbformat_minor": 5
}
